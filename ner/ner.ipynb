{
 "cells": [
  {
   "cell_type": "markdown",
   "metadata": {},
   "source": [
    "# Named Entity Recognition (NER) Exercise"
   ]
  },
  {
   "cell_type": "markdown",
   "metadata": {},
   "source": [
    "##### (Notebook by Itay Hazan)"
   ]
  },
  {
   "cell_type": "markdown",
   "metadata": {},
   "source": [
    "## Problem definition"
   ]
  },
  {
   "cell_type": "markdown",
   "metadata": {},
   "source": [
    "Named entity recognition (NER) is the task of tagging entities in text with their corresponding type.\n",
    "Less formally, there is a known set of entity types (e.g. Person, Organization, Location), and our goal is: given a new sentence, for each word, either label it with one of the types or with a special *NONE* entity, which we denote **O** (capital O)."
   ]
  },
  {
   "cell_type": "markdown",
   "metadata": {},
   "source": [
    "For example, given the following sentence:\n",
    "   \n",
    "    Efrat, Tony, Ira, Aviv and Itay drove to the Hebrew University in Jerusalem to meet Talpiot students.\n",
    "   \n",
    "A good labeling is:\n",
    "\n",
    "     Per    Per  Per   Per      Per                Organization        Location           Org\n",
    "    Efrat, Tony, Ira, Aviv and Itay drove to the Hebrew University in Jerusalem to meet Talpiot students."
   ]
  },
  {
   "cell_type": "markdown",
   "metadata": {},
   "source": [
    "## Dataset"
   ]
  },
  {
   "cell_type": "markdown",
   "metadata": {},
   "source": [
    "In this exercise, we'll train a NER model on the famous `CoNLL-2003` dataset. The dataset is located in `./data/CONLL2003`. Read online on this dataset's representation."
   ]
  },
  {
   "cell_type": "markdown",
   "metadata": {},
   "source": [
    "## The Model"
   ]
  },
  {
   "cell_type": "markdown",
   "metadata": {},
   "source": [
    "You are free to construct any model you desire. Just make it work! \n",
    "(Hint: you can find a nice summary on NER models here: http://nlpprogress.com/english/named_entity_recognition.html)"
   ]
  },
  {
   "cell_type": "code",
   "execution_count": null,
   "metadata": {},
   "outputs": [],
   "source": []
  }
 ],
 "metadata": {
  "kernelspec": {
   "display_name": "Python 3",
   "language": "python",
   "name": "python3"
  },
  "language_info": {
   "codemirror_mode": {
    "name": "ipython",
    "version": 3
   },
   "file_extension": ".py",
   "mimetype": "text/x-python",
   "name": "python",
   "nbconvert_exporter": "python",
   "pygments_lexer": "ipython3",
   "version": "3.6.5"
  }
 },
 "nbformat": 4,
 "nbformat_minor": 2
}
